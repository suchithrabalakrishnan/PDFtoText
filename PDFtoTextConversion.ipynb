{
 "cells": [
  {
   "cell_type": "code",
   "execution_count": 1,
   "metadata": {
    "collapsed": true
   },
   "outputs": [],
   "source": [
    "from pdf2image import convert_from_path\n",
    "pages = convert_from_path('pdf1.pdf', 500)"
   ]
  },
  {
   "cell_type": "code",
   "execution_count": 2,
   "metadata": {
    "collapsed": true
   },
   "outputs": [],
   "source": [
    "for page in pages:\n",
    "    page.save('out.jpg', 'JPEG')"
   ]
  },
  {
   "cell_type": "code",
   "execution_count": 3,
   "metadata": {
    "collapsed": true
   },
   "outputs": [],
   "source": [
    "from PIL import Image\n",
    "import pytesseract\n",
    "#import tesseract"
   ]
  },
  {
   "cell_type": "code",
   "execution_count": 4,
   "metadata": {},
   "outputs": [],
   "source": [
    "text = pytesseract.image_to_string(Image.open('out.jpg'))"
   ]
  },
  {
   "cell_type": "code",
   "execution_count": 5,
   "metadata": {},
   "outputs": [
    {
     "data": {
      "text/plain": [
       "\"MA PIP Subrogation\\n\\nWe are still waiting for the first report to be generated.\\n\\nThis should happen around Christmas. Data Analytics & Reporting is running the project.\\n| will be in to generate the report following Christmas.\\n\\nLarge Loss\\n\\nFirst report went out on 12/3. We are monitoring the results to see if they are in line with our expectations. Suchi\\nshould have some results / comparisons.\\n\\nNaomi Souliere and | met with Ed Kruzewski regarding his team running this project. They are fine with taking this over.\\n| am going to have Suchi reach out to the Operations Specialists with details and a location to run the project.\\n\\nLegal Spend\\n\\nWe met with Cliff Guyette last week to get some more information on the fields in Legal-X and their respective fields in\\nLegal Exchange.\\n\\nWe also met as a larger group last week. The Claims team presented their CBA during that meeting. The results only\\nhad savings for CA & FL. We have asked them to add WA & CT in as well.\\n\\nAdditionally we are still considering various points as to when to run the models. The Suit model will likely run at key\\nmoments such as FNOL, 90 Day, 6 months, etc. The other models, legal spend and outcome, will run after suit is file and\\nwill likely be on demand.\\n\\nWe have divvied up the remaining suit criteria provided by Claims and plan on getting any additional information we\\nrequire from them in order to acquire these data elements.\\n\\n| have begun pulling information from WA & CT for the project. Amy used some basic WA & CT information to link back\\nto Legal-X and Legal Exchange in order to begin some initial analysis.\\n\\n| developed some VBA code that automatically converts PDF files to Text files for machine learning purposes. The code\\nworks for those PDF's that are electronically generated, but scanned in PDF’s do not work (from what | have seen}. We\\nwill continue to explore other avenues for PDF to Text conversions.\\n\\nCollections\\n\\n| sent a request to Lynsey Biernacki and Matt Demalia (Lynsey’s replacement} about getting a project team together and\\nsetting up a meeting. Matt has come up with a project team on his end and has assigned Monique Mailloux as the\\nproject manager on his end. | reminded him to setup a meeting and he followed up that he will have Monique setup a\\nmeeting by the end of the day 12/14. If said meeting has not been created, | will follow up with him if it has not been\\nscheduled by the time | return.\\n\\nNY Retention - No update.\\n\\nCA Retention\\n\\nJessy made some more requests for the data changes. She and | reviewed an initial version of the model and | asked her\\nto make sure she looks at the variables that we had recommended last time. This is when we realized there was still\\nsome missing. Some of the results are the opposite of my initial expectation and | think it will require more analysis.\\nMA Retention |\\n\\nJessy is continuing to finalize the MA Mid-Term model. She will have to translate her SAS code into Python code for the\\ncloud pilot.\\n\\nConnor has provided some information to Paul Edwards that he required to setup AWS. There is some additional\\ninformation that Paul may need from Gary Boggs regarding SAS that we recommended he reach out to.\\n\\nPeter Flaherty has worked with IBM to make sure that Minsky is now working with R Studio. Connor tested this and it is\\nworking correctly.\\n\\nWe also asked Angelos if he could help acquire Watson Studio that could help with the development on Minsky.\\n\\nFor this pilot we should also consider using SAS’s Viya service to weigh all our potential avenues.\\n\\nV12 Retention- Refit in January.\\n\\nsg\""
      ]
     },
     "execution_count": 5,
     "metadata": {},
     "output_type": "execute_result"
    }
   ],
   "source": [
    "text"
   ]
  },
  {
   "cell_type": "code",
   "execution_count": null,
   "metadata": {
    "collapsed": true
   },
   "outputs": [],
   "source": []
  }
 ],
 "metadata": {
  "kernelspec": {
   "display_name": "Python 3",
   "language": "python",
   "name": "python3"
  },
  "language_info": {
   "codemirror_mode": {
    "name": "ipython",
    "version": 3
   },
   "file_extension": ".py",
   "mimetype": "text/x-python",
   "name": "python",
   "nbconvert_exporter": "python",
   "pygments_lexer": "ipython3",
   "version": "3.6.1"
  }
 },
 "nbformat": 4,
 "nbformat_minor": 2
}
